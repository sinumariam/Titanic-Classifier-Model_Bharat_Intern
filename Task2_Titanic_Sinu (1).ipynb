{
 "cells": [
  {
   "cell_type": "markdown",
   "id": "4a55e64c-16ad-402d-ada5-da386aae3ae8",
   "metadata": {
    "tags": []
   },
   "source": [
    "#### Name : SINU S MARIAM\n",
    "#### Designation : Data Science Intern  \n",
    "#### Organization : Bharat Intern\n",
    "#### Task 2 - Titanic Classification\n",
    "#### Problem Statement:\n",
    "* Develop a predictive model based on 'Titanic Dataset' to identify “ what sorts of people were more likely to survive ? ” using passenger data such as name, age, gender, socio-economic class, etc."
   ]
  },
  {
   "cell_type": "code",
   "execution_count": 1,
   "id": "d4a9e32f-08c6-46f6-8aa7-5ade663b57e2",
   "metadata": {
    "tags": []
   },
   "outputs": [],
   "source": [
    "#importing necessary libraries \n",
    "import pandas as pd\n",
    "import numpy as np\n",
    "import warnings\n",
    "warnings.filterwarnings('ignore')\n",
    "#importing libraries for visualisation\n",
    "import matplotlib.pyplot as plt\n",
    "from matplotlib import style\n",
    "import seaborn as sns"
   ]
  },
  {
   "cell_type": "code",
   "execution_count": 2,
   "id": "24bdefb4-b9e9-466c-a584-7d8a7256f7c1",
   "metadata": {
    "tags": []
   },
   "outputs": [],
   "source": [
    "#importing Data\n",
    "data_file=r'C:\\Users\\sinus\\OneDrive\\Documents\\bharatintern\\Titanic Dataset.csv'\n",
    "data_frame=pd.read_csv(data_file)"
   ]
  },
  {
   "cell_type": "markdown",
   "id": "f1cb6615-0108-45bf-9bcb-2ca712a9752b",
   "metadata": {},
   "source": [
    "####  Performing descriptive analysis. Understand the variables and their corresponding values. "
   ]
  },
  {
   "cell_type": "code",
   "execution_count": 3,
   "id": "b0da482f-7867-488b-bf4e-fe9510e782ee",
   "metadata": {
    "tags": []
   },
   "outputs": [
    {
     "name": "stdout",
     "output_type": "stream",
     "text": [
      "<class 'pandas.core.frame.DataFrame'>\n",
      "RangeIndex: 891 entries, 0 to 890\n",
      "Data columns (total 12 columns):\n",
      " #   Column       Non-Null Count  Dtype  \n",
      "---  ------       --------------  -----  \n",
      " 0   PassengerId  891 non-null    int64  \n",
      " 1   Survived     891 non-null    int64  \n",
      " 2   Pclass       891 non-null    int64  \n",
      " 3   Name         891 non-null    object \n",
      " 4   Sex          891 non-null    object \n",
      " 5   Age          714 non-null    float64\n",
      " 6   SibSp        891 non-null    int64  \n",
      " 7   Parch        891 non-null    int64  \n",
      " 8   Ticket       891 non-null    object \n",
      " 9   Fare         891 non-null    float64\n",
      " 10  Cabin        204 non-null    object \n",
      " 11  Embarked     889 non-null    object \n",
      "dtypes: float64(2), int64(5), object(5)\n",
      "memory usage: 83.7+ KB\n"
     ]
    }
   ],
   "source": [
    "# Understanding the Data Variables\n",
    "data_frame.info()"
   ]
  },
  {
   "cell_type": "code",
   "execution_count": 4,
   "id": "e0e41d5d-1474-4232-a21c-9c7fdd047f4c",
   "metadata": {
    "tags": []
   },
   "outputs": [
    {
     "data": {
      "text/html": [
       "<div>\n",
       "<style scoped>\n",
       "    .dataframe tbody tr th:only-of-type {\n",
       "        vertical-align: middle;\n",
       "    }\n",
       "\n",
       "    .dataframe tbody tr th {\n",
       "        vertical-align: top;\n",
       "    }\n",
       "\n",
       "    .dataframe thead th {\n",
       "        text-align: right;\n",
       "    }\n",
       "</style>\n",
       "<table border=\"1\" class=\"dataframe\">\n",
       "  <thead>\n",
       "    <tr style=\"text-align: right;\">\n",
       "      <th></th>\n",
       "      <th>PassengerId</th>\n",
       "      <th>Survived</th>\n",
       "      <th>Pclass</th>\n",
       "      <th>Name</th>\n",
       "      <th>Sex</th>\n",
       "      <th>Age</th>\n",
       "      <th>SibSp</th>\n",
       "      <th>Parch</th>\n",
       "      <th>Ticket</th>\n",
       "      <th>Fare</th>\n",
       "      <th>Cabin</th>\n",
       "      <th>Embarked</th>\n",
       "    </tr>\n",
       "  </thead>\n",
       "  <tbody>\n",
       "    <tr>\n",
       "      <th>0</th>\n",
       "      <td>1</td>\n",
       "      <td>0</td>\n",
       "      <td>3</td>\n",
       "      <td>Braund, Mr. Owen Harris</td>\n",
       "      <td>male</td>\n",
       "      <td>22.0</td>\n",
       "      <td>1</td>\n",
       "      <td>0</td>\n",
       "      <td>A/5 21171</td>\n",
       "      <td>7.2500</td>\n",
       "      <td>NaN</td>\n",
       "      <td>S</td>\n",
       "    </tr>\n",
       "    <tr>\n",
       "      <th>1</th>\n",
       "      <td>2</td>\n",
       "      <td>1</td>\n",
       "      <td>1</td>\n",
       "      <td>Cumings, Mrs. John Bradley (Florence Briggs Th...</td>\n",
       "      <td>female</td>\n",
       "      <td>38.0</td>\n",
       "      <td>1</td>\n",
       "      <td>0</td>\n",
       "      <td>PC 17599</td>\n",
       "      <td>71.2833</td>\n",
       "      <td>C85</td>\n",
       "      <td>C</td>\n",
       "    </tr>\n",
       "    <tr>\n",
       "      <th>2</th>\n",
       "      <td>3</td>\n",
       "      <td>1</td>\n",
       "      <td>3</td>\n",
       "      <td>Heikkinen, Miss. Laina</td>\n",
       "      <td>female</td>\n",
       "      <td>26.0</td>\n",
       "      <td>0</td>\n",
       "      <td>0</td>\n",
       "      <td>STON/O2. 3101282</td>\n",
       "      <td>7.9250</td>\n",
       "      <td>NaN</td>\n",
       "      <td>S</td>\n",
       "    </tr>\n",
       "    <tr>\n",
       "      <th>3</th>\n",
       "      <td>4</td>\n",
       "      <td>1</td>\n",
       "      <td>1</td>\n",
       "      <td>Futrelle, Mrs. Jacques Heath (Lily May Peel)</td>\n",
       "      <td>female</td>\n",
       "      <td>35.0</td>\n",
       "      <td>1</td>\n",
       "      <td>0</td>\n",
       "      <td>113803</td>\n",
       "      <td>53.1000</td>\n",
       "      <td>C123</td>\n",
       "      <td>S</td>\n",
       "    </tr>\n",
       "    <tr>\n",
       "      <th>4</th>\n",
       "      <td>5</td>\n",
       "      <td>0</td>\n",
       "      <td>3</td>\n",
       "      <td>Allen, Mr. William Henry</td>\n",
       "      <td>male</td>\n",
       "      <td>35.0</td>\n",
       "      <td>0</td>\n",
       "      <td>0</td>\n",
       "      <td>373450</td>\n",
       "      <td>8.0500</td>\n",
       "      <td>NaN</td>\n",
       "      <td>S</td>\n",
       "    </tr>\n",
       "  </tbody>\n",
       "</table>\n",
       "</div>"
      ],
      "text/plain": [
       "   PassengerId  Survived  Pclass  \\\n",
       "0            1         0       3   \n",
       "1            2         1       1   \n",
       "2            3         1       3   \n",
       "3            4         1       1   \n",
       "4            5         0       3   \n",
       "\n",
       "                                                Name     Sex   Age  SibSp  \\\n",
       "0                            Braund, Mr. Owen Harris    male  22.0      1   \n",
       "1  Cumings, Mrs. John Bradley (Florence Briggs Th...  female  38.0      1   \n",
       "2                             Heikkinen, Miss. Laina  female  26.0      0   \n",
       "3       Futrelle, Mrs. Jacques Heath (Lily May Peel)  female  35.0      1   \n",
       "4                           Allen, Mr. William Henry    male  35.0      0   \n",
       "\n",
       "   Parch            Ticket     Fare Cabin Embarked  \n",
       "0      0         A/5 21171   7.2500   NaN        S  \n",
       "1      0          PC 17599  71.2833   C85        C  \n",
       "2      0  STON/O2. 3101282   7.9250   NaN        S  \n",
       "3      0            113803  53.1000  C123        S  \n",
       "4      0            373450   8.0500   NaN        S  "
      ]
     },
     "execution_count": 4,
     "metadata": {},
     "output_type": "execute_result"
    }
   ],
   "source": [
    "# Show the top 5 Rows of data\n",
    "data_frame.head()"
   ]
  },
  {
   "cell_type": "code",
   "execution_count": 5,
   "id": "faea83fd-9d02-445b-ba46-762e99e0862e",
   "metadata": {
    "tags": []
   },
   "outputs": [
    {
     "data": {
      "text/plain": [
       "Index(['PassengerId', 'Survived', 'Pclass', 'Name', 'Sex', 'Age', 'SibSp',\n",
       "       'Parch', 'Ticket', 'Fare', 'Cabin', 'Embarked'],\n",
       "      dtype='object')"
      ]
     },
     "execution_count": 5,
     "metadata": {},
     "output_type": "execute_result"
    }
   ],
   "source": [
    "#Identify columns in Dataset\n",
    "data_frame.columns"
   ]
  },
  {
   "cell_type": "markdown",
   "id": "94256779-e2e3-4687-b9f2-ca66177b7f2a",
   "metadata": {},
   "source": [
    "#### Data Cleaning"
   ]
  },
  {
   "cell_type": "code",
   "execution_count": 6,
   "id": "f1d3dd1d-dd31-4021-a1ca-ba93e8795331",
   "metadata": {
    "tags": []
   },
   "outputs": [
    {
     "data": {
      "text/plain": [
       "PassengerId      0\n",
       "Survived         0\n",
       "Pclass           0\n",
       "Name             0\n",
       "Sex              0\n",
       "Age            177\n",
       "SibSp            0\n",
       "Parch            0\n",
       "Ticket           0\n",
       "Fare             0\n",
       "Cabin          687\n",
       "Embarked         2\n",
       "dtype: int64"
      ]
     },
     "execution_count": 6,
     "metadata": {},
     "output_type": "execute_result"
    }
   ],
   "source": [
    "# Checking for null values\n",
    "data_frame.isnull().sum()"
   ]
  },
  {
   "cell_type": "markdown",
   "id": "9f5edbc3-0110-4628-bb42-71e01a1fb7d1",
   "metadata": {},
   "source": [
    " * Variable 'Age' contains 177 null values, So the respective null values can be replaced by the mean values of Age.\n",
    " * Variable 'Cabin' can be dropped as it contains 687 null values."
   ]
  },
  {
   "cell_type": "code",
   "execution_count": 7,
   "id": "32d37820-76dc-4b39-b13d-59a7bdc7774e",
   "metadata": {},
   "outputs": [],
   "source": [
    "# Null values in \"Age\" column replaced by the mean values\n",
    "data_frame['Age'] = data_frame['Age'].fillna(data_frame['Age'].mean().round())"
   ]
  },
  {
   "cell_type": "code",
   "execution_count": 8,
   "id": "2f44046d-55cd-4151-86d1-bf120110e60a",
   "metadata": {},
   "outputs": [
    {
     "data": {
      "text/plain": [
       "1      1\n",
       "599    1\n",
       "588    1\n",
       "589    1\n",
       "590    1\n",
       "      ..\n",
       "301    1\n",
       "302    1\n",
       "303    1\n",
       "304    1\n",
       "891    1\n",
       "Name: PassengerId, Length: 891, dtype: int64"
      ]
     },
     "execution_count": 8,
     "metadata": {},
     "output_type": "execute_result"
    }
   ],
   "source": [
    "data_frame['PassengerId'].value_counts()"
   ]
  },
  {
   "cell_type": "code",
   "execution_count": 9,
   "id": "8f5ddb66-29a8-44bc-9c56-fecdd27c15c3",
   "metadata": {
    "tags": []
   },
   "outputs": [
    {
     "data": {
      "text/plain": [
       "347082      7\n",
       "CA. 2343    7\n",
       "1601        7\n",
       "3101295     6\n",
       "CA 2144     6\n",
       "           ..\n",
       "9234        1\n",
       "19988       1\n",
       "2693        1\n",
       "PC 17612    1\n",
       "370376      1\n",
       "Name: Ticket, Length: 681, dtype: int64"
      ]
     },
     "execution_count": 9,
     "metadata": {},
     "output_type": "execute_result"
    }
   ],
   "source": [
    "data_frame['Ticket'].value_counts()"
   ]
  },
  {
   "cell_type": "markdown",
   "id": "33681505-776a-4426-8460-56962cf53c32",
   "metadata": {},
   "source": [
    " * Variables 'PassengerId' and 'Ticket' can be dropped as they have numerous unique values."
   ]
  },
  {
   "cell_type": "code",
   "execution_count": 10,
   "id": "dd9ef533-d065-4eca-b0c9-5a18ce3c5edc",
   "metadata": {},
   "outputs": [],
   "source": [
    "data_frame.drop([\"PassengerId\",\"Name\",\"Ticket\",\"Cabin\"],axis=1,inplace=True)"
   ]
  },
  {
   "cell_type": "code",
   "execution_count": 11,
   "id": "cb601861-3218-4399-83c5-99909ed76e52",
   "metadata": {},
   "outputs": [
    {
     "data": {
      "text/plain": [
       "Index(['Survived', 'Pclass', 'Sex', 'Age', 'SibSp', 'Parch', 'Fare',\n",
       "       'Embarked'],\n",
       "      dtype='object')"
      ]
     },
     "execution_count": 11,
     "metadata": {},
     "output_type": "execute_result"
    }
   ],
   "source": [
    "# Show the remaining columns\n",
    "data_frame.columns"
   ]
  },
  {
   "cell_type": "code",
   "execution_count": 12,
   "id": "56bb4aab-4207-4747-a4bc-c4e39f664400",
   "metadata": {
    "tags": []
   },
   "outputs": [
    {
     "data": {
      "text/plain": [
       "0    549\n",
       "1    342\n",
       "Name: Survived, dtype: int64"
      ]
     },
     "execution_count": 12,
     "metadata": {},
     "output_type": "execute_result"
    }
   ],
   "source": [
    "#Checking values in 'Survived' Variable\n",
    "data_frame['Survived'].value_counts()"
   ]
  },
  {
   "cell_type": "markdown",
   "id": "f2130489-635c-4794-8738-7035d2d869ff",
   "metadata": {},
   "source": [
    " * Survived represented by '1', Not Survived by'0'"
   ]
  },
  {
   "cell_type": "code",
   "execution_count": 13,
   "id": "6374b7db-7069-44bf-9fa4-de307a3ae61a",
   "metadata": {
    "tags": []
   },
   "outputs": [
    {
     "data": {
      "text/plain": [
       "array(['S', 'C', 'Q', nan], dtype=object)"
      ]
     },
     "execution_count": 13,
     "metadata": {},
     "output_type": "execute_result"
    }
   ],
   "source": [
    "#Checking values in 'Embarked' Variable\n",
    "data_frame.Embarked.unique()"
   ]
  },
  {
   "cell_type": "markdown",
   "id": "f7572c2c-bb78-43c6-9566-3a519006b2ec",
   "metadata": {},
   "source": [
    " * Embarked represents the port where the passengers are embarked from , such as C for Cherbourg, Q for Queenstown, S for Southampton."
   ]
  },
  {
   "cell_type": "code",
   "execution_count": 14,
   "id": "66402e55-15be-4f0b-9555-628af90664c8",
   "metadata": {
    "tags": []
   },
   "outputs": [
    {
     "data": {
      "text/plain": [
       "male      577\n",
       "female    314\n",
       "Name: Sex, dtype: int64"
      ]
     },
     "execution_count": 14,
     "metadata": {},
     "output_type": "execute_result"
    }
   ],
   "source": [
    "#Checking values in 'Sex' Variable\n",
    "data_frame['Sex'].value_counts()"
   ]
  },
  {
   "cell_type": "code",
   "execution_count": 15,
   "id": "607d9c90-1db9-422b-8655-d1b651e1e1c7",
   "metadata": {},
   "outputs": [
    {
     "data": {
      "text/plain": [
       "3    491\n",
       "1    216\n",
       "2    184\n",
       "Name: Pclass, dtype: int64"
      ]
     },
     "execution_count": 15,
     "metadata": {},
     "output_type": "execute_result"
    }
   ],
   "source": [
    "#Checking values in 'Pclass' Variable\n",
    "data_frame['Pclass'].value_counts()"
   ]
  },
  {
   "cell_type": "code",
   "execution_count": 16,
   "id": "645fe9df-5e09-4ddc-8412-b35080e317f0",
   "metadata": {},
   "outputs": [
    {
     "data": {
      "text/plain": [
       "0    608\n",
       "1    209\n",
       "2     28\n",
       "4     18\n",
       "3     16\n",
       "8      7\n",
       "5      5\n",
       "Name: SibSp, dtype: int64"
      ]
     },
     "execution_count": 16,
     "metadata": {},
     "output_type": "execute_result"
    }
   ],
   "source": [
    "#Checking values in 'SibSp' Variable\n",
    "#SibSp represents number of siblings or spouses traveling with passenger\n",
    "data_frame['SibSp'].value_counts()"
   ]
  },
  {
   "cell_type": "code",
   "execution_count": 17,
   "id": "082bcf0e-d857-41c5-b692-45111b75f2d4",
   "metadata": {},
   "outputs": [
    {
     "data": {
      "text/plain": [
       "0    678\n",
       "1    118\n",
       "2     80\n",
       "5      5\n",
       "3      5\n",
       "4      4\n",
       "6      1\n",
       "Name: Parch, dtype: int64"
      ]
     },
     "execution_count": 17,
     "metadata": {},
     "output_type": "execute_result"
    }
   ],
   "source": [
    "#Checking values in 'Parch' Variable\n",
    "#Parch represents number of parents or children traveling with passenger\n",
    "data_frame['Parch'].value_counts()"
   ]
  },
  {
   "cell_type": "markdown",
   "id": "5abb9622-6b17-4e36-a73e-8cf08f3ab8e6",
   "metadata": {},
   "source": [
    "#### Data Visualization"
   ]
  },
  {
   "cell_type": "code",
   "execution_count": 18,
   "id": "09abc867-24c0-468c-9af3-6388f0978cc7",
   "metadata": {},
   "outputs": [],
   "source": [
    "# find correlation between variables in data set for plotting heatmap\n",
    "df_corr=data_frame.corr()"
   ]
  },
  {
   "cell_type": "code",
   "execution_count": 19,
   "id": "946313be-d48f-4a50-aed3-174fc740e464",
   "metadata": {},
   "outputs": [
    {
     "data": {
      "image/png": "[encoded data removed]",
      "text/plain": [
       "<Figure size 2000x1500 with 2 Axes>"
      ]
     },
     "metadata": {},
     "output_type": "display_data"
    }
   ],
   "source": [
    "# Plotting Heatmap\n",
    "plt.figure(figsize=(20,15))\n",
    "sns.heatmap(df_corr,annot=True,cmap=\"BuPu\")\n",
    "plt.show()"
   ]
  },
  {
   "cell_type": "markdown",
   "id": "fda92465-0553-46ff-80f1-c95cb083659f",
   "metadata": {},
   "source": [
    " * Variables Fare, Parch have positive correlation values with the target variable 'Survived'."
   ]
  },
  {
   "cell_type": "code",
   "execution_count": 20,
   "id": "8162a485-f73a-42b2-a0ae-2f7265b4235d",
   "metadata": {
    "tags": []
   },
   "outputs": [
    {
     "data": {
      "text/plain": [
       "<Axes: >"
      ]
     },
     "execution_count": 20,
     "metadata": {},
     "output_type": "execute_result"
    },
    {
     "data": {
      "image/png": "[encoded data removed]",
      "text/plain": [
       "<Figure size 500x300 with 1 Axes>"
      ]
     },
     "metadata": {},
     "output_type": "display_data"
    }
   ],
   "source": [
    "# Plotting Histogram of 'Survived' variable\n",
    "data_frame['Survived'].value_counts().plot(kind='bar',figsize=(5,3))"
   ]
  },
  {
   "cell_type": "code",
   "execution_count": 21,
   "id": "02d51f68-a2ea-40a1-bf75-573f36100ef9",
   "metadata": {
    "tags": []
   },
   "outputs": [
    {
     "data": {
      "text/plain": [
       "<Axes: xlabel='Embarked', ylabel='count'>"
      ]
     },
     "execution_count": 21,
     "metadata": {},
     "output_type": "execute_result"
    },
    {
     "data": {
      "image/png": "[encoded data removed]",
      "text/plain": [
       "<Figure size 640x480 with 1 Axes>"
      ]
     },
     "metadata": {},
     "output_type": "display_data"
    }
   ],
   "source": [
    "# Plotting countplot of  no: of Survivors for 'Embarked' variable\n",
    "sns.countplot(data_frame,x=\"Embarked\",hue=\"Survived\" )"
   ]
  },
  {
   "cell_type": "code",
   "execution_count": 22,
   "id": "a3b093e4-d66b-44bc-9e2e-f7b32c232fa5",
   "metadata": {
    "tags": []
   },
   "outputs": [
    {
     "data": {
      "text/plain": [
       "<Axes: xlabel='Sex', ylabel='count'>"
      ]
     },
     "execution_count": 22,
     "metadata": {},
     "output_type": "execute_result"
    },
    {
     "data": {
      "image/png": "[encoded data removed]",
      "text/plain": [
       "<Figure size 640x480 with 1 Axes>"
      ]
     },
     "metadata": {},
     "output_type": "display_data"
    }
   ],
   "source": [
    "# Plotting countplot of no: of Survivors for 'Sex' variable\n",
    "sns.countplot(data_frame,x=\"Sex\",hue=\"Survived\")"
   ]
  },
  {
   "cell_type": "code",
   "execution_count": 23,
   "id": "1a10450e-7f5b-4099-9fbf-d0f93d1b2bca",
   "metadata": {
    "tags": []
   },
   "outputs": [
    {
     "data": {
      "text/plain": [
       "<Axes: xlabel='Pclass', ylabel='count'>"
      ]
     },
     "execution_count": 23,
     "metadata": {},
     "output_type": "execute_result"
    },
    {
     "data": {
      "image/png": "[encoded data removed]",
      "text/plain": [
       "<Figure size 640x480 with 1 Axes>"
      ]
     },
     "metadata": {},
     "output_type": "display_data"
    }
   ],
   "source": [
    "# Plotting countplot of no: of Survivors for 'Pclass' variable\n",
    "sns.countplot(data_frame,x='Pclass',hue='Survived')"
   ]
  },
  {
   "cell_type": "code",
   "execution_count": 24,
   "id": "4c7b6989-8847-4dc3-b3a2-f6cac58eaf07",
   "metadata": {
    "tags": []
   },
   "outputs": [
    {
     "data": {
      "text/plain": [
       "<Axes: xlabel='SibSp', ylabel='count'>"
      ]
     },
     "execution_count": 24,
     "metadata": {},
     "output_type": "execute_result"
    },
    {
     "data": {
      "image/png": "[encoded data removed]",
      "text/plain": [
       "<Figure size 640x480 with 1 Axes>"
      ]
     },
     "metadata": {},
     "output_type": "display_data"
    }
   ],
   "source": [
    "# Plotting countplot of no: of Survivors for 'Sibsp' variable\n",
    "sns.countplot(data_frame,x='SibSp',hue='Survived')"
   ]
  },
  {
   "cell_type": "code",
   "execution_count": 25,
   "id": "37d1dbea-05e0-47d2-bd6f-03d99c4f4db4",
   "metadata": {
    "tags": []
   },
   "outputs": [
    {
     "data": {
      "text/plain": [
       "<Axes: xlabel='Parch', ylabel='count'>"
      ]
     },
     "execution_count": 25,
     "metadata": {},
     "output_type": "execute_result"
    },
    {
     "data": {
      "image/png": "[encoded data removed]",
      "text/plain": [
       "<Figure size 640x480 with 1 Axes>"
      ]
     },
     "metadata": {},
     "output_type": "display_data"
    }
   ],
   "source": [
    "# Plotting countplot of no: of Survivors for 'Parch' variable\n",
    "sns.countplot(data_frame,x='Parch',hue='Survived')"
   ]
  },
  {
   "cell_type": "markdown",
   "id": "373b0f85-a108-4ce8-95b3-d0164801480d",
   "metadata": {},
   "source": [
    "#### Convert Categorical values to Numerical values"
   ]
  },
  {
   "cell_type": "code",
   "execution_count": 26,
   "id": "4131daa6-26f6-49fc-999a-4789553a00f0",
   "metadata": {
    "tags": []
   },
   "outputs": [],
   "source": [
    "# Labelling categorical values in 'Sex' variable\n",
    "data_frame['Sex'] = np.where(data_frame['Sex'] == 'male',1,0)"
   ]
  },
  {
   "cell_type": "code",
   "execution_count": 27,
   "id": "8074e3eb-2d88-4f2b-a5be-aac04d281f87",
   "metadata": {
    "tags": []
   },
   "outputs": [
    {
     "data": {
      "text/plain": [
       "array([2, 0, 1, 3])"
      ]
     },
     "execution_count": 27,
     "metadata": {},
     "output_type": "execute_result"
    }
   ],
   "source": [
    "# For labelling the categorical  column-'Emabarked',Label encoding is permormed \n",
    "from sklearn.preprocessing import LabelEncoder\n",
    "le = LabelEncoder()\n",
    "data_frame[\"Embarked\"] = le.fit_transform(data_frame['Embarked'])\n",
    "data_frame['Embarked'].unique()"
   ]
  },
  {
   "cell_type": "markdown",
   "id": "d04d40cc-b54f-44f1-aa90-6064d2723afb",
   "metadata": {},
   "source": [
    "#### Building the Model"
   ]
  },
  {
   "cell_type": "code",
   "execution_count": 28,
   "id": "12e57d97-a95d-4232-a5e3-3077997e6c5d",
   "metadata": {
    "tags": []
   },
   "outputs": [],
   "source": [
    "from sklearn.model_selection import train_test_split"
   ]
  },
  {
   "cell_type": "code",
   "execution_count": 29,
   "id": "8bdcf93e-5001-418b-8c27-bf1e6e16de43",
   "metadata": {
    "tags": []
   },
   "outputs": [],
   "source": [
    "#First step in building the model is to identify the Feature(Input) variables and Target (Output) variable\n",
    "#Target represents the 'Survived' column and all remaining columns are features\n",
    "features = data_frame.drop(['Survived'], axis=1)\n",
    "target = data_frame['Survived']"
   ]
  },
  {
   "cell_type": "code",
   "execution_count": 30,
   "id": "9b109387-8d8d-43dc-830a-5783a073bd0e",
   "metadata": {
    "tags": []
   },
   "outputs": [
    {
     "data": {
      "text/html": [
       "<div>\n",
       "<style scoped>\n",
       "    .dataframe tbody tr th:only-of-type {\n",
       "        vertical-align: middle;\n",
       "    }\n",
       "\n",
       "    .dataframe tbody tr th {\n",
       "        vertical-align: top;\n",
       "    }\n",
       "\n",
       "    .dataframe thead th {\n",
       "        text-align: right;\n",
       "    }\n",
       "</style>\n",
       "<table border=\"1\" class=\"dataframe\">\n",
       "  <thead>\n",
       "    <tr style=\"text-align: right;\">\n",
       "      <th></th>\n",
       "      <th>Pclass</th>\n",
       "      <th>Sex</th>\n",
       "      <th>Age</th>\n",
       "      <th>SibSp</th>\n",
       "      <th>Parch</th>\n",
       "      <th>Fare</th>\n",
       "      <th>Embarked</th>\n",
       "    </tr>\n",
       "  </thead>\n",
       "  <tbody>\n",
       "    <tr>\n",
       "      <th>0</th>\n",
       "      <td>3</td>\n",
       "      <td>1</td>\n",
       "      <td>22.0</td>\n",
       "      <td>1</td>\n",
       "      <td>0</td>\n",
       "      <td>7.2500</td>\n",
       "      <td>2</td>\n",
       "    </tr>\n",
       "    <tr>\n",
       "      <th>1</th>\n",
       "      <td>1</td>\n",
       "      <td>0</td>\n",
       "      <td>38.0</td>\n",
       "      <td>1</td>\n",
       "      <td>0</td>\n",
       "      <td>71.2833</td>\n",
       "      <td>0</td>\n",
       "    </tr>\n",
       "    <tr>\n",
       "      <th>2</th>\n",
       "      <td>3</td>\n",
       "      <td>0</td>\n",
       "      <td>26.0</td>\n",
       "      <td>0</td>\n",
       "      <td>0</td>\n",
       "      <td>7.9250</td>\n",
       "      <td>2</td>\n",
       "    </tr>\n",
       "    <tr>\n",
       "      <th>3</th>\n",
       "      <td>1</td>\n",
       "      <td>0</td>\n",
       "      <td>35.0</td>\n",
       "      <td>1</td>\n",
       "      <td>0</td>\n",
       "      <td>53.1000</td>\n",
       "      <td>2</td>\n",
       "    </tr>\n",
       "    <tr>\n",
       "      <th>4</th>\n",
       "      <td>3</td>\n",
       "      <td>1</td>\n",
       "      <td>35.0</td>\n",
       "      <td>0</td>\n",
       "      <td>0</td>\n",
       "      <td>8.0500</td>\n",
       "      <td>2</td>\n",
       "    </tr>\n",
       "  </tbody>\n",
       "</table>\n",
       "</div>"
      ],
      "text/plain": [
       "   Pclass  Sex   Age  SibSp  Parch     Fare  Embarked\n",
       "0       3    1  22.0      1      0   7.2500         2\n",
       "1       1    0  38.0      1      0  71.2833         0\n",
       "2       3    0  26.0      0      0   7.9250         2\n",
       "3       1    0  35.0      1      0  53.1000         2\n",
       "4       3    1  35.0      0      0   8.0500         2"
      ]
     },
     "execution_count": 30,
     "metadata": {},
     "output_type": "execute_result"
    }
   ],
   "source": [
    "features.head()"
   ]
  },
  {
   "cell_type": "code",
   "execution_count": 31,
   "id": "db6899fb-6977-420c-9983-922b3643fe00",
   "metadata": {
    "tags": []
   },
   "outputs": [
    {
     "name": "stdout",
     "output_type": "stream",
     "text": [
      "Train set of features:  (712, 7)\n",
      "Test set of features:  (179, 7)\n",
      "Target for train:  (712,)\n",
      "Target for test:  (179,)\n"
     ]
    }
   ],
   "source": [
    "# Splitting data for training the model and testing the model\n",
    "# train size taken as 0.8\n",
    "X_train, X_test, y_train, y_test = train_test_split(features, target, train_size = .8)\n",
    "# Dimensions of Train and Test Data sets\n",
    "print('Train set of features: ', X_train.shape)\n",
    "print('Test set of features: ', X_test.shape)\n",
    "print('Target for train: ', y_train.shape)\n",
    "print('Target for test: ', y_test.shape)"
   ]
  },
  {
   "cell_type": "markdown",
   "id": "f80d6875-d788-45f6-9f15-179212bc28e1",
   "metadata": {},
   "source": [
    "### Scaling the data"
   ]
  },
  {
   "cell_type": "code",
   "execution_count": 32,
   "id": "05cc3aea-6e85-4689-8ec4-abba7761e80a",
   "metadata": {},
   "outputs": [],
   "source": [
    "# Scaling data using MinMaxScaler()\n",
    "from sklearn.preprocessing import MinMaxScaler\n",
    "minmax_scaler_model=MinMaxScaler()\n",
    "X_train_scaled_frame=minmax_scaler_model.fit_transform(X_train)\n",
    "X_test_scaled_frame=minmax_scaler_model.transform(X_test)\n"
   ]
  },
  {
   "cell_type": "markdown",
   "id": "42ed26f1-7733-4953-9029-b5cf36b29fbd",
   "metadata": {},
   "source": [
    "### 1. Decision Tree model"
   ]
  },
  {
   "cell_type": "markdown",
   "id": "9de715ed-8879-47c3-8568-6cae5eacd7bf",
   "metadata": {},
   "source": [
    "#### Learn the Decision Tree model on train data"
   ]
  },
  {
   "cell_type": "code",
   "execution_count": 33,
   "id": "a94dc70b-e71d-45b9-8444-d69a634c6768",
   "metadata": {
    "tags": []
   },
   "outputs": [],
   "source": [
    "from sklearn.tree import DecisionTreeClassifier\n",
    "my_model_DT = DecisionTreeClassifier(max_depth = 5, random_state = 0)"
   ]
  },
  {
   "cell_type": "code",
   "execution_count": 34,
   "id": "01b5f594-4db6-45e1-9bef-95a1c10e3189",
   "metadata": {
    "tags": []
   },
   "outputs": [],
   "source": [
    "# Fitting the model in train data set ie the Decision Tree Model should learn from the Train Data\n",
    "my_model_DT=my_model_DT.fit(X_train_scaled_frame, y_train)"
   ]
  },
  {
   "cell_type": "markdown",
   "id": "36e0b861-79e6-46fc-87ac-ad25800760c0",
   "metadata": {},
   "source": [
    "#### Prediction"
   ]
  },
  {
   "cell_type": "code",
   "execution_count": 35,
   "id": "9af48f38-a1aa-4462-ac88-1147c4cdbe14",
   "metadata": {
    "tags": []
   },
   "outputs": [
    {
     "data": {
      "text/plain": [
       "array([0, 0, 0, 1, 0, 1, 1, 0, 0, 0, 1, 0, 1, 0, 1, 0, 1, 1, 0, 0, 0, 0,\n",
       "       1, 0, 0, 0, 0, 0, 0, 0, 1, 0, 0, 1, 0, 1, 1, 1, 0, 1, 0, 0, 0, 0,\n",
       "       0, 1, 0, 1, 0, 1, 1, 0, 1, 0, 0, 0, 0, 0, 0, 1, 0, 0, 0, 1, 0, 0,\n",
       "       0, 0, 0, 1, 0, 0, 0, 0, 1, 1, 0, 1, 1, 1, 0, 0, 1, 1, 0, 0, 0, 1,\n",
       "       0, 1, 0, 0, 0, 0, 0, 0, 1, 1, 0, 1, 0, 1, 1, 1, 0, 0, 0, 0, 1, 0,\n",
       "       1, 0, 1, 1, 0, 1, 1, 1, 1, 0, 0, 0, 0, 0, 0, 0, 0, 1, 0, 0, 0, 1,\n",
       "       0, 0, 0, 0, 0, 1, 0, 0, 0, 1, 1, 0, 1, 1, 1, 0, 1, 1, 1, 0, 0, 1,\n",
       "       0, 1, 1, 1, 1, 0, 1, 1, 1, 0, 1, 0, 0, 1, 0, 0, 1, 0, 0, 0, 0, 1,\n",
       "       0, 0, 1], dtype=int64)"
      ]
     },
     "execution_count": 35,
     "metadata": {},
     "output_type": "execute_result"
    }
   ],
   "source": [
    "# Predicting the Species from Feature Test values\n",
    "y_pred_DT = my_model_DT.predict(X_test_scaled_frame)\n",
    "y_pred_DT"
   ]
  },
  {
   "cell_type": "markdown",
   "id": "ffc33ee5-ad29-48fe-abbf-506a1f952142",
   "metadata": {},
   "source": [
    "#### Testing the Decision Tree Classifier model"
   ]
  },
  {
   "cell_type": "code",
   "execution_count": 36,
   "id": "6120c7f6-e09e-4d83-9d2d-c3487a28b4af",
   "metadata": {
    "tags": []
   },
   "outputs": [],
   "source": [
    "from sklearn.metrics import accuracy_score, precision_score, recall_score, f1_score"
   ]
  },
  {
   "cell_type": "code",
   "execution_count": 37,
   "id": "23b4c2d8-5380-427c-9a93-edac26bd27b6",
   "metadata": {
    "tags": []
   },
   "outputs": [
    {
     "data": {
      "text/plain": [
       "0.7877094972067039"
      ]
     },
     "execution_count": 37,
     "metadata": {},
     "output_type": "execute_result"
    }
   ],
   "source": [
    "# find Accurancy Score = (TP+TN)/(TP+TN+FP+FN)\n",
    "accuracy_score(y_test, y_pred_DT)"
   ]
  },
  {
   "cell_type": "code",
   "execution_count": 38,
   "id": "eb6a95a9-3c2b-4017-93ca-cc0a0e19e177",
   "metadata": {
    "tags": []
   },
   "outputs": [
    {
     "data": {
      "text/plain": [
       "0.7714285714285715"
      ]
     },
     "execution_count": 38,
     "metadata": {},
     "output_type": "execute_result"
    }
   ],
   "source": [
    "# find Precision Score= TP/(TP+FP)\n",
    "precision_score(y_test, y_pred_DT)"
   ]
  },
  {
   "cell_type": "code",
   "execution_count": 39,
   "id": "36abe222-21a6-48b9-a5f9-474e79904f0c",
   "metadata": {
    "tags": []
   },
   "outputs": [
    {
     "data": {
      "text/plain": [
       "0.7105263157894737"
      ]
     },
     "execution_count": 39,
     "metadata": {},
     "output_type": "execute_result"
    }
   ],
   "source": [
    "# Recall = TP/(TP+FN)\n",
    "# Recall gives the percentage of positives well predicted by our model.\n",
    "recall_score(y_test, y_pred_DT)"
   ]
  },
  {
   "cell_type": "code",
   "execution_count": 40,
   "id": "0502f37f-c2f1-4786-a1bf-9ab26c82a003",
   "metadata": {
    "tags": []
   },
   "outputs": [
    {
     "data": {
      "text/plain": [
       "0.7397260273972601"
      ]
     },
     "execution_count": 40,
     "metadata": {},
     "output_type": "execute_result"
    }
   ],
   "source": [
    "# f1_score= (Precition * Recall )/ (Precition + Recall)\n",
    "f1_score(y_test, y_pred_DT)"
   ]
  },
  {
   "cell_type": "markdown",
   "id": "e91c1b29-0bde-4fdc-ad49-cd8b47d1a6d2",
   "metadata": {},
   "source": [
    "### 2. KNN Classifier"
   ]
  },
  {
   "cell_type": "markdown",
   "id": "bb1cd104-853b-4a50-9657-0c71e86d3652",
   "metadata": {},
   "source": [
    "#### Learn the KNN Classifier model  on train data"
   ]
  },
  {
   "cell_type": "code",
   "execution_count": 41,
   "id": "1f500aa7-9c54-47d6-9859-1c94be152613",
   "metadata": {},
   "outputs": [],
   "source": [
    "from sklearn.neighbors import KNeighborsClassifier\n",
    "my_model_KNN = KNeighborsClassifier()"
   ]
  },
  {
   "cell_type": "code",
   "execution_count": 42,
   "id": "acdd1ba3-cd27-4fdd-a0f9-cb55f1739451",
   "metadata": {},
   "outputs": [],
   "source": [
    "# Fitting the model in train data set ie the KNN Classifier Model should learn from the  Train Data\n",
    "my_model_KNN=my_model_KNN.fit(X_train_scaled_frame, y_train)"
   ]
  },
  {
   "cell_type": "markdown",
   "id": "b8be92f7-3efd-4275-8f02-577c32d68546",
   "metadata": {},
   "source": [
    "#### Prediction"
   ]
  },
  {
   "cell_type": "code",
   "execution_count": 43,
   "id": "1d71f463-77e0-46ea-9e2f-79195c476f41",
   "metadata": {},
   "outputs": [],
   "source": [
    "# Predicting from Feature Test values\n",
    "y_pred_KNN = my_model_KNN.predict(X_test_scaled_frame)"
   ]
  },
  {
   "cell_type": "markdown",
   "id": "eaa45525-c981-4633-a5a8-110a9277cde7",
   "metadata": {},
   "source": [
    "#### Testing the KNN Classifier model"
   ]
  },
  {
   "cell_type": "code",
   "execution_count": 44,
   "id": "38223eda-cd38-42f4-b52a-72abf57b81c7",
   "metadata": {
    "tags": []
   },
   "outputs": [
    {
     "data": {
      "text/plain": [
       "0.8212290502793296"
      ]
     },
     "execution_count": 44,
     "metadata": {},
     "output_type": "execute_result"
    }
   ],
   "source": [
    "accuracy_score(y_test, y_pred_KNN)"
   ]
  },
  {
   "cell_type": "code",
   "execution_count": 45,
   "id": "d11f4161-858c-4475-91a4-21e0876c6e32",
   "metadata": {},
   "outputs": [
    {
     "data": {
      "text/plain": [
       "0.8333333333333334"
      ]
     },
     "execution_count": 45,
     "metadata": {},
     "output_type": "execute_result"
    }
   ],
   "source": [
    "precision_score(y_test, y_pred_KNN)"
   ]
  },
  {
   "cell_type": "code",
   "execution_count": 46,
   "id": "3ec04246-e406-4f7e-ab44-907c0c2b8ddb",
   "metadata": {},
   "outputs": [
    {
     "data": {
      "text/plain": [
       "0.7236842105263158"
      ]
     },
     "execution_count": 46,
     "metadata": {},
     "output_type": "execute_result"
    }
   ],
   "source": [
    "recall_score(y_test, y_pred_KNN)"
   ]
  },
  {
   "cell_type": "code",
   "execution_count": 47,
   "id": "c191339e-482c-4df4-8d62-3c384c1640f3",
   "metadata": {},
   "outputs": [
    {
     "data": {
      "text/plain": [
       "0.7746478873239436"
      ]
     },
     "execution_count": 47,
     "metadata": {},
     "output_type": "execute_result"
    }
   ],
   "source": [
    "f1_score(y_test, y_pred_KNN)"
   ]
  },
  {
   "cell_type": "markdown",
   "id": "97133f97-c01d-43e7-8f6b-17289d1d4f2f",
   "metadata": {},
   "source": [
    "### 3. Random Forest Classifier Model"
   ]
  },
  {
   "cell_type": "code",
   "execution_count": 48,
   "id": "537cf725-ede0-4510-86fd-47cb25d6465c",
   "metadata": {},
   "outputs": [],
   "source": [
    "from sklearn.ensemble import RandomForestClassifier  \n",
    "my_model_RF= RandomForestClassifier()"
   ]
  },
  {
   "cell_type": "code",
   "execution_count": 49,
   "id": "73b34b9a-f6a0-4002-94f6-a893423facdb",
   "metadata": {},
   "outputs": [],
   "source": [
    "# Fitting the model in train data set ie the  Random Forest Classifier Model should learn from the  Train Data\n",
    "my_model_RF=my_model_RF.fit(X_train_scaled_frame, y_train)"
   ]
  },
  {
   "cell_type": "markdown",
   "id": "9f9ab82e-82b8-4c0a-85e2-7fd184767ffe",
   "metadata": {},
   "source": [
    "#### Prediction"
   ]
  },
  {
   "cell_type": "code",
   "execution_count": 50,
   "id": "438fd58c-c5c5-4cd9-9c4e-fc37b6e7c374",
   "metadata": {},
   "outputs": [],
   "source": [
    "# Predicting  from Feature Test values\n",
    "y_pred_RF = my_model_RF.predict(X_test_scaled_frame)"
   ]
  },
  {
   "cell_type": "markdown",
   "id": "da5faeab-3fbf-4d5d-828a-7de6748d0598",
   "metadata": {},
   "source": [
    "#### Testing the Random Forest Classifier Model"
   ]
  },
  {
   "cell_type": "code",
   "execution_count": 51,
   "id": "09b7d6d0-56fc-452e-bb10-ba7022309b78",
   "metadata": {},
   "outputs": [
    {
     "data": {
      "text/plain": [
       "0.7988826815642458"
      ]
     },
     "execution_count": 51,
     "metadata": {},
     "output_type": "execute_result"
    }
   ],
   "source": [
    "accuracy_score(y_test, y_pred_RF)"
   ]
  },
  {
   "cell_type": "code",
   "execution_count": 52,
   "id": "0de176a9-0200-4987-9769-21c794bdf26b",
   "metadata": {},
   "outputs": [
    {
     "data": {
      "text/plain": [
       "0.7857142857142857"
      ]
     },
     "execution_count": 52,
     "metadata": {},
     "output_type": "execute_result"
    }
   ],
   "source": [
    "precision_score(y_test, y_pred_RF)"
   ]
  },
  {
   "cell_type": "code",
   "execution_count": 53,
   "id": "4b6fbf27-f644-4acc-930c-4ae4ad66e8b9",
   "metadata": {},
   "outputs": [
    {
     "data": {
      "text/plain": [
       "0.7236842105263158"
      ]
     },
     "execution_count": 53,
     "metadata": {},
     "output_type": "execute_result"
    }
   ],
   "source": [
    "recall_score(y_test, y_pred_RF)"
   ]
  },
  {
   "cell_type": "code",
   "execution_count": 54,
   "id": "cba5c8f8-675d-4ca4-bef7-bed4533ac779",
   "metadata": {},
   "outputs": [
    {
     "data": {
      "text/plain": [
       "0.7534246575342466"
      ]
     },
     "execution_count": 54,
     "metadata": {},
     "output_type": "execute_result"
    }
   ],
   "source": [
    "f1_score(y_test, y_pred_RF)"
   ]
  },
  {
   "cell_type": "markdown",
   "id": "18b17c0f-bea8-4b10-8ec3-6623eadfe960",
   "metadata": {
    "tags": []
   },
   "source": [
    "### 4. Logistic Regression Model"
   ]
  },
  {
   "cell_type": "markdown",
   "id": "a0847bde-593e-4be5-8177-5627c33d97fe",
   "metadata": {},
   "source": [
    "### Learn the Logistic Regression Model on train data"
   ]
  },
  {
   "cell_type": "code",
   "execution_count": 55,
   "id": "f62a1968-fdc7-419e-957e-d89529b88d82",
   "metadata": {},
   "outputs": [],
   "source": [
    "from sklearn.linear_model import LogisticRegression\n",
    "my_model_LR=model = LogisticRegression()"
   ]
  },
  {
   "cell_type": "code",
   "execution_count": 56,
   "id": "e7fddd39-75e8-46c1-8f72-333fb91f7585",
   "metadata": {},
   "outputs": [],
   "source": [
    "# Fitting the model in train data set ie the  Logistic Regression Model should learn from the  Train Data\n",
    "my_model_LR=my_model_LR.fit(X_train_scaled_frame, y_train)"
   ]
  },
  {
   "cell_type": "code",
   "execution_count": 57,
   "id": "14e70bb0-3f89-4d2c-95a5-29a6bbce2d28",
   "metadata": {},
   "outputs": [],
   "source": [
    "# Predicting  from Feature Test values\n",
    "y_pred_LR = my_model_LR.predict(X_test_scaled_frame)"
   ]
  },
  {
   "cell_type": "markdown",
   "id": "cf751b32-5958-4e98-b91b-d63885877857",
   "metadata": {},
   "source": [
    "#### Testing the Logistic Regression Model"
   ]
  },
  {
   "cell_type": "code",
   "execution_count": 58,
   "id": "612ad590-d103-4e9a-bc06-178892dea563",
   "metadata": {},
   "outputs": [
    {
     "data": {
      "text/plain": [
       "0.7821229050279329"
      ]
     },
     "execution_count": 58,
     "metadata": {},
     "output_type": "execute_result"
    }
   ],
   "source": [
    "accuracy_score(y_test, y_pred_LR)"
   ]
  },
  {
   "cell_type": "code",
   "execution_count": 59,
   "id": "6bb884a5-bb0e-47e9-b649-25fb5db43f79",
   "metadata": {},
   "outputs": [
    {
     "data": {
      "text/plain": [
       "0.7846153846153846"
      ]
     },
     "execution_count": 59,
     "metadata": {},
     "output_type": "execute_result"
    }
   ],
   "source": [
    "precision_score(y_test, y_pred_LR)"
   ]
  },
  {
   "cell_type": "code",
   "execution_count": 60,
   "id": "a0b6245d-1293-4bbe-949d-3692c1c1f25e",
   "metadata": {},
   "outputs": [
    {
     "data": {
      "text/plain": [
       "0.6710526315789473"
      ]
     },
     "execution_count": 60,
     "metadata": {},
     "output_type": "execute_result"
    }
   ],
   "source": [
    "recall_score(y_test, y_pred_LR)"
   ]
  },
  {
   "cell_type": "code",
   "execution_count": 61,
   "id": "8a263589-a058-4d22-86f1-961510d078b7",
   "metadata": {
    "tags": []
   },
   "outputs": [
    {
     "data": {
      "text/plain": [
       "0.7234042553191491"
      ]
     },
     "execution_count": 61,
     "metadata": {},
     "output_type": "execute_result"
    }
   ],
   "source": [
    "f1_score(y_test, y_pred_LR)"
   ]
  },
  {
   "cell_type": "markdown",
   "id": "074da8cd-fa74-49bb-a712-72ceed3e391f",
   "metadata": {},
   "source": [
    " * From the above analysis, it is noted that KNN Classifier model performs better compared to other models"
   ]
  },
  {
   "cell_type": "markdown",
   "id": "8399ccfc-32ba-4f5e-af60-402bf1f44047",
   "metadata": {},
   "source": [
    "--------------------THE END----------------------"
   ]
  }
 ],
 "metadata": {
  "kernelspec": {
   "display_name": "Python 3 (ipykernel)",
   "language": "python",
   "name": "python3"
  },
  "language_info": {
   "codemirror_mode": {
    "name": "ipython",
    "version": 3
   },
   "file_extension": ".py",
   "mimetype": "text/x-python",
   "name": "python",
   "nbconvert_exporter": "python",
   "pygments_lexer": "ipython3",
   "version": "3.11.4"
  }
 },
 "nbformat": 4,
 "nbformat_minor": 5
}
